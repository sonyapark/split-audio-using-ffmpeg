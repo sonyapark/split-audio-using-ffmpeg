{
 "cells": [
  {
   "cell_type": "code",
   "execution_count": 69,
   "metadata": {},
   "outputs": [
    {
     "name": "stdout",
     "output_type": "stream",
     "text": [
      "ffmpeg -i mp3/fmajor-incorrect-all.mp3 -ss 00:00:0 -t 00:00:12 ex1/train/incorrect/12s/incorrect-fmajor-12s-1.mp3 ; ffmpeg -i mp3/fmajor-incorrect-all.mp3 -ss 00:00:12 -t 00:00:12 ex1/train/incorrect/12s/incorrect-fmajor-12s-2.mp3 ; ffmpeg -i mp3/fmajor-incorrect-all.mp3 -ss 00:00:24 -t 00:00:12 ex1/train/incorrect/12s/incorrect-fmajor-12s-3.mp3 ; ffmpeg -i mp3/fmajor-incorrect-all.mp3 -ss 00:00:36 -t 00:00:12 ex1/train/incorrect/12s/incorrect-fmajor-12s-4.mp3 ; ffmpeg -i mp3/fmajor-incorrect-all.mp3 -ss 00:00:48 -t 00:00:12 ex1/train/incorrect/12s/incorrect-fmajor-12s-5.mp3 ; ffmpeg -i mp3/fmajor-incorrect-all.mp3 -ss 00:01:0 -t 00:00:12 ex1/train/incorrect/12s/incorrect-fmajor-12s-6.mp3 ; ffmpeg -i mp3/fmajor-incorrect-all.mp3 -ss 00:01:12 -t 00:00:12 ex1/train/incorrect/12s/incorrect-fmajor-12s-7.mp3 ; ffmpeg -i mp3/fmajor-incorrect-all.mp3 -ss 00:01:24 -t 00:00:12 ex1/train/incorrect/12s/incorrect-fmajor-12s-8.mp3 ; ffmpeg -i mp3/fmajor-incorrect-all.mp3 -ss 00:01:36 -t 00:00:12 ex1/train/incorrect/12s/incorrect-fmajor-12s-9.mp3 ; ffmpeg -i mp3/fmajor-incorrect-all.mp3 -ss 00:01:48 -t 00:00:12 ex1/train/incorrect/12s/incorrect-fmajor-12s-10.mp3 ; ffmpeg -i mp3/fmajor-incorrect-all.mp3 -ss 00:02:0 -t 00:00:12 ex1/train/incorrect/12s/incorrect-fmajor-12s-11.mp3 ; ffmpeg -i mp3/fmajor-incorrect-all.mp3 -ss 00:02:12 -t 00:00:12 ex1/train/incorrect/12s/incorrect-fmajor-12s-12.mp3 ; ffmpeg -i mp3/fmajor-incorrect-all.mp3 -ss 00:02:24 -t 00:00:12 ex1/train/incorrect/12s/incorrect-fmajor-12s-13.mp3 ; ffmpeg -i mp3/fmajor-incorrect-all.mp3 -ss 00:02:36 -t 00:00:12 ex1/train/incorrect/12s/incorrect-fmajor-12s-14.mp3 ; ffmpeg -i mp3/fmajor-incorrect-all.mp3 -ss 00:02:48 -t 00:00:12 ex1/train/incorrect/12s/incorrect-fmajor-12s-15.mp3 ; "
     ]
    }
   ],
   "source": [
    "#you have to adjust x of \"while (l <= x)\" according to duration and music length 1.music length(second)/duration=y 2.duration*y ????\n",
    "#if you want to change interval, change x of \"j += x\" and x of \"l += x\"\n",
    "#if you want to change pianist, change x of \"pianist = \"x\"\"\n",
    "#smallest interval is 1 second\n",
    "\n",
    "#suyeon, aimi, alexia, alukasz, george, nathalia\n",
    "\n",
    "#if result is inaccurate, check audio length by using this command \"mp3info -p \" %f %m:%s\\n\" *.mp3\"\n",
    "import sys\n",
    "import os\n",
    "#pianist is pianist name(file name)\n",
    "\n",
    "duration = 12\n",
    "posture = \"incorrect\"\n",
    "scale = \"fmajor\"\n",
    "\n",
    "split=\"train\"\n",
    "outpath= \"ex1/\"+str(split)+\"/\"+str(posture)+\"/\"+str(duration)+\"s/\"\n",
    "\n",
    "if not os.path.exists(outpath):\n",
    "    os.mkdir( outpath, 0755 )\n",
    "        \n",
    "i = 1\n",
    "j = 0\n",
    "minute = 0\n",
    "\n",
    "while (minute <= 2):\n",
    "    all = [\"ffmpeg -i \",\"mp3/\",scale,\"-\",posture,\"-all.mp3 \",\"-ss 00:0\",minute,\":\",str(j),\" -t 00:00:\",duration,\" \",str(outpath),posture,\"-\",scale,\"-\",duration,\"s-\",i,\".mp3 ; \"]\n",
    "    sys.stdout.write(''.join(map(str, all)))  \n",
    "    #print(''.join(map(str, all)))\n",
    "    i += 1\n",
    "    j += duration\n",
    "        \n",
    "    if j >= 60:\n",
    "        j = duration - (60-j+duration)\n",
    "        minute += 1"
   ]
  }
 ],
 "metadata": {
  "kernelspec": {
   "display_name": "Python 2",
   "language": "python",
   "name": "python2"
  },
  "language_info": {
   "codemirror_mode": {
    "name": "ipython",
    "version": 2
   },
   "file_extension": ".py",
   "mimetype": "text/x-python",
   "name": "python",
   "nbconvert_exporter": "python",
   "pygments_lexer": "ipython2",
   "version": "2.7.15"
  }
 },
 "nbformat": 4,
 "nbformat_minor": 2
}
